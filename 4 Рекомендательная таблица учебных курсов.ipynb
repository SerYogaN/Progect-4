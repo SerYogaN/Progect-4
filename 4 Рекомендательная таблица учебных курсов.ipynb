{
 "cells": [
  {
   "cell_type": "markdown",
   "metadata": {},
   "source": [
    "## Project-4 Подготовка рекомендательной таблицы учебных курсов. \n",
    "#### Автор: Сергей Нечаев. \n",
    "#### SkillFactory: SDA-3.0 Полный курс по анализу данных.\n"
   ]
  },
  {
   "cell_type": "markdown",
   "metadata": {},
   "source": [
    "### ЦЕЛЬ\n",
    "#### Подготовить основу рекомендательной системы.\n"
   ]
  },
  {
   "cell_type": "markdown",
   "metadata": {},
   "source": [
    "### ЗАДАЧИ\n",
    "Продакт-менеджер онлайн-школы MasterMind ожидает получить от вас рекомендательную систему, благодаря которой можно будет предлагать клиентам интересные им курсы и тем самым повышать средний чек.  \n",
    "Вы решаете, что изначальным воплощением этой системы может стать таблица, в которой курсам будет соответствовать по две рекомендации.   \n",
    "Кроме того, вы планируете вместе с отчётом (таблицей рекомендаций) скинуть продакту ещё и все написанные в процессе скрипты, чтобы было меньше вопросов по решению :)    \n",
    "Ну, и раз в код будут смотреть не только ваши глаза, вы считаете необходимым снабдить его комментариями, которые бы разъясняли, что где и почему вы делаете.    \n",
    "Также вы понимаете, что перед внедрением фичи коллеги решат провести A/B-тест и вас скорее всего привлекут к анализу результатов.   \n",
    "Перспективы ясны, можно переходить к формализации задач."
   ]
  },
  {
   "cell_type": "markdown",
   "metadata": {},
   "source": [
    "### КОНКРЕТНЫЕ ШАГИ (ФОРМАЛИЗОВАННЫЕ ЗАДАЧИ)\n",
    "\n",
    "1. Познакомиться с датасетом. Подготовить и проанализировать данные с помощью SQL.\n",
    "2. Обработать данные средствами Python.\n",
    "3. Составить итоговую таблицу с рекомендациями, снабдив её необходимыми комментариями, и представить отчёт продакт-менеджеру.\n",
    "4. Проанализировать результаты A/B-теста, проведённого после внедрения фичи, и сделать вывод.\n",
    "\n"
   ]
  },
  {
   "cell_type": "markdown",
   "metadata": {},
   "source": [
    "### ИСХОДНЫЕ ДАННЫЕ"
   ]
  },
  {
   "cell_type": "markdown",
   "metadata": {},
   "source": [
    "#### Таблица carts — данные о пользовательских корзинах\n",
    "Promo Code ID — ID промокода, если он есть   \n",
    "Purchased At — дата оплаты    \n",
    "User ID — ID пользователя   \n",
    "Created At — дата создания корзины   \n",
    "Updated At — дата последнего обновления информации   \n",
    "ID — идентификатор корзины   \n",
    "State — состояние оплаты  \n",
    "#### Таблица cart items — данные о курсах, которые пользователи добавили в корзину\n",
    "Created At — дата создания события   \n",
    "Resource Type — тип продукта   \n",
    "Resource ID — ID курса   \n",
    "Cart ID — идентификатор корзины   \n",
    "Updated At — дата последнего обновления информации   \n",
    "ID — идентификатор операции  "
   ]
  },
  {
   "cell_type": "markdown",
   "metadata": {},
   "source": [
    "### ЭТАПЫ ВЫПОЛНЕНИЯ РАБОТЫ"
   ]
  },
  {
   "cell_type": "markdown",
   "metadata": {},
   "source": [
    "#### 1. ИЗУЧЕНИЕ И ПОДГОТОВКА ДАННЫХ ДЛЯ ДАЛЬНЕЙШЕГО АНАЛИЗА С ПОМОЩЬЮ SQL"
   ]
  },
  {
   "cell_type": "code",
   "execution_count": 26,
   "metadata": {},
   "outputs": [
    {
     "name": "stdout",
     "output_type": "stream",
     "text": [
      "Requirement already satisfied: psycopg2 in c:\\program files\\python39\\lib\\site-packages (2.9.5)\n"
     ]
    },
    {
     "name": "stderr",
     "output_type": "stream",
     "text": [
      "\n",
      "[notice] A new release of pip available: 22.3 -> 22.3.1\n",
      "[notice] To update, run: python.exe -m pip install --upgrade pip\n"
     ]
    }
   ],
   "source": [
    " ! pip install psycopg2 "
   ]
  },
  {
   "cell_type": "code",
   "execution_count": 27,
   "metadata": {},
   "outputs": [],
   "source": [
    "%matplotlib inline\n",
    "import pandas as pd\n",
    "import numpy as np\n",
    "import psycopg2\n",
    "import psycopg2.extras "
   ]
  },
  {
   "cell_type": "code",
   "execution_count": 28,
   "metadata": {},
   "outputs": [
    {
     "data": {
      "text/html": [
       "<div>\n",
       "<style scoped>\n",
       "    .dataframe tbody tr th:only-of-type {\n",
       "        vertical-align: middle;\n",
       "    }\n",
       "\n",
       "    .dataframe tbody tr th {\n",
       "        vertical-align: top;\n",
       "    }\n",
       "\n",
       "    .dataframe thead th {\n",
       "        text-align: right;\n",
       "    }\n",
       "</style>\n",
       "<table border=\"1\" class=\"dataframe\">\n",
       "  <thead>\n",
       "    <tr style=\"text-align: right;\">\n",
       "      <th></th>\n",
       "      <th>min_date</th>\n",
       "      <th>max_date</th>\n",
       "    </tr>\n",
       "  </thead>\n",
       "  <tbody>\n",
       "    <tr>\n",
       "      <th>0</th>\n",
       "      <td>2017-01-01 07:29:15.164</td>\n",
       "      <td>2018-12-30 23:29:38.892</td>\n",
       "    </tr>\n",
       "  </tbody>\n",
       "</table>\n",
       "</div>"
      ],
      "text/plain": [
       "                 min_date                max_date\n",
       "0 2017-01-01 07:29:15.164 2018-12-30 23:29:38.892"
      ]
     },
     "execution_count": 28,
     "metadata": {},
     "output_type": "execute_result"
    }
   ],
   "source": [
    "# с помощью SQL проверим, за какой период имеются данные\n",
    "\n",
    "def getDataPeriod():\n",
    "    query = '''select \n",
    "    min(purchased_at) min_date,\n",
    "    max(purchased_at) max_date\n",
    "    from final.carts\n",
    "    where state = 'successful'\n",
    "    '''.format()\n",
    "    conn = psycopg2.connect(\"dbname='skillfactory' user='skillfactory' host='84.201.134.129' password='cCkxxLVrDE8EbvjueeMedPKt' port=5432\")\n",
    "    dict_cur = conn.cursor(cursor_factory=psycopg2.extras.DictCursor)\n",
    "    dict_cur.execute(query)\n",
    "    rows = dict_cur.fetchall()\n",
    "    data = []\n",
    "    for row in rows:\n",
    "        data.append(dict(row))\n",
    "    return data\n",
    "data_period= pd.DataFrame(getDataPeriod())\n",
    "data_period"
   ]
  },
  {
   "cell_type": "code",
   "execution_count": 29,
   "metadata": {},
   "outputs": [
    {
     "name": "stdout",
     "output_type": "stream",
     "text": [
      "   course_id\n",
      "0        809\n",
      "1       1145\n",
      "2        908\n",
      "3        814\n",
      "4       1181 \n",
      " всего курсов: 127\n"
     ]
    }
   ],
   "source": [
    "# С помощью SQL запроса смотрим, сколько всего имеется курсов\n",
    "\n",
    "def getCourseAll():\n",
    "    query = '''select \n",
    "    distinct ci.resource_id course_id\n",
    "    from final.cart_items ci\n",
    "    where ci.resource_type = 'Course'\n",
    "    '''.format()\n",
    "    conn = psycopg2.connect(\"dbname='skillfactory' user='skillfactory' host='84.201.134.129' password='cCkxxLVrDE8EbvjueeMedPKt' port=5432\")\n",
    "    dict_cur = conn.cursor(cursor_factory=psycopg2.extras.DictCursor)\n",
    "    dict_cur.execute(query)\n",
    "    rows = dict_cur.fetchall()\n",
    "    data = []\n",
    "    for row in rows:\n",
    "        data.append(dict(row))\n",
    "    return data\n",
    "course_id= pd.DataFrame(getCourseAll())\n",
    "\n",
    "print(course_id.head(), '\\n', 'всего курсов:', len(course_id))"
   ]
  },
  {
   "cell_type": "code",
   "execution_count": 30,
   "metadata": {},
   "outputs": [
    {
     "data": {
      "text/html": [
       "<div>\n",
       "<style scoped>\n",
       "    .dataframe tbody tr th:only-of-type {\n",
       "        vertical-align: middle;\n",
       "    }\n",
       "\n",
       "    .dataframe tbody tr th {\n",
       "        vertical-align: top;\n",
       "    }\n",
       "\n",
       "    .dataframe thead th {\n",
       "        text-align: right;\n",
       "    }\n",
       "</style>\n",
       "<table border=\"1\" class=\"dataframe\">\n",
       "  <thead>\n",
       "    <tr style=\"text-align: right;\">\n",
       "      <th></th>\n",
       "      <th>count_user</th>\n",
       "      <th>avg_course</th>\n",
       "    </tr>\n",
       "  </thead>\n",
       "  <tbody>\n",
       "    <tr>\n",
       "      <th>0</th>\n",
       "      <td>49006</td>\n",
       "      <td>1.4402522140146105</td>\n",
       "    </tr>\n",
       "  </tbody>\n",
       "</table>\n",
       "</div>"
      ],
      "text/plain": [
       "   count_user          avg_course\n",
       "0       49006  1.4402522140146105"
      ]
     },
     "metadata": {},
     "output_type": "display_data"
    }
   ],
   "source": [
    "# В SQL запросе смотрим, сколько клиентов купили курсы и сколько в среднем на одного клиента покупок курсов\n",
    "\n",
    "def getUsersCourse():\n",
    "    query = '''with purchased as\n",
    "    (select \n",
    "    c.user_id user_id,\n",
    "    count(ci.resource_id) count_course\n",
    "    from\n",
    "    final.carts c\n",
    "    join final.cart_items ci on c.id = ci.cart_id\n",
    "    where c.state = 'successful'  and ci.resource_type = 'Course'\n",
    "    group by 1\n",
    "    order by 2 \n",
    "    )\n",
    "    select\n",
    "    count(user_id) count_user,\n",
    "    avg(count_course) avg_course\n",
    "    from purchased\n",
    "    '''.format()\n",
    "    conn = psycopg2.connect(\"dbname='skillfactory' user='skillfactory' host='84.201.134.129' password='cCkxxLVrDE8EbvjueeMedPKt' port=5432\")\n",
    "    dict_cur = conn.cursor(cursor_factory=psycopg2.extras.DictCursor)\n",
    "    dict_cur.execute(query)\n",
    "    rows = dict_cur.fetchall()\n",
    "    data = []\n",
    "    for row in rows:\n",
    "        data.append(dict(row))\n",
    "    return data\n",
    "users_course= pd.DataFrame(getUsersCourse())\n",
    "\n",
    "display(users_course)   # посмотрим, сколько клиентов купили курсы и скотлько в среднем на одного клиента покупок курсов"
   ]
  },
  {
   "cell_type": "code",
   "execution_count": 31,
   "metadata": {},
   "outputs": [
    {
     "data": {
      "text/html": [
       "<div>\n",
       "<style scoped>\n",
       "    .dataframe tbody tr th:only-of-type {\n",
       "        vertical-align: middle;\n",
       "    }\n",
       "\n",
       "    .dataframe tbody tr th {\n",
       "        vertical-align: top;\n",
       "    }\n",
       "\n",
       "    .dataframe thead th {\n",
       "        text-align: right;\n",
       "    }\n",
       "</style>\n",
       "<table border=\"1\" class=\"dataframe\">\n",
       "  <thead>\n",
       "    <tr style=\"text-align: right;\">\n",
       "      <th></th>\n",
       "      <th>count_us</th>\n",
       "      <th>resource_id</th>\n",
       "    </tr>\n",
       "  </thead>\n",
       "  <tbody>\n",
       "    <tr>\n",
       "      <th>0</th>\n",
       "      <td>12656</td>\n",
       "      <td>126</td>\n",
       "    </tr>\n",
       "  </tbody>\n",
       "</table>\n",
       "</div>"
      ],
      "text/plain": [
       "   count_us  resource_id\n",
       "0     12656          126"
      ]
     },
     "metadata": {},
     "output_type": "display_data"
    }
   ],
   "source": [
    "# Считаем количество клиентов, купивших более одного уникального курса\n",
    "\n",
    "def getCountUsers():\n",
    "    query = '''with purchased as\n",
    "    (select \n",
    "    c.user_id user_id,\n",
    "    ci.resource_id\n",
    "    from\n",
    "    final.carts c\n",
    "    join final.cart_items ci on c.id = ci.cart_id\n",
    "    where c.state = 'successful'  and ci.resource_type = 'Course'  \n",
    "    group by 1,2\n",
    "    order by 1,2\n",
    "    ),\n",
    "    user_count as\n",
    "    (\n",
    "    select\n",
    "    user_id,\n",
    "    resource_id,\n",
    "    count(resource_id) over (partition by user_id) \"count_course\"\n",
    "    from purchased\n",
    "    order by 3,1\n",
    "    )\n",
    "    select \n",
    "    count(distinct user_id) count_us,\n",
    "    count(distinct resource_id) resource_id\n",
    "    from user_count\n",
    "    where count_course > 1\n",
    "    '''.format()\n",
    "    conn = psycopg2.connect(\"dbname='skillfactory' user='skillfactory' host='84.201.134.129' password='cCkxxLVrDE8EbvjueeMedPKt' port=5432\")\n",
    "    dict_cur = conn.cursor(cursor_factory=psycopg2.extras.DictCursor)\n",
    "    dict_cur.execute(query)\n",
    "    rows = dict_cur.fetchall()\n",
    "    data = []\n",
    "    for row in rows:\n",
    "        data.append(dict(row))\n",
    "    return data\n",
    "count_activ_user= pd.DataFrame(getCountUsers())\n",
    "\n",
    "display(count_activ_user)"
   ]
  },
  {
   "cell_type": "markdown",
   "metadata": {},
   "source": [
    "#### Выводы по первому этапу:\n",
    "- В анализируемых данных представлены продажи за 2017 и 2018 годы.\n",
    "- За этот период 49 006 клиентов покупали 126 курсов (из имеющихся 127), из них 12 656 клиентов совершили более одной уникальной покупки курсов.\n",
    "- Среднее число купленных курсов на одного клиента составило 1,44 уникальных курса.\n",
    "- Один из курсов никто ни разу не покупал!. Ниже посмотрм, что за курс.   "
   ]
  },
  {
   "cell_type": "markdown",
   "metadata": {},
   "source": [
    " #### 2. ОБРАБОТКА ПОЛУЧЕННЫХ ДАННЫХ С ПОМОЩЬЮ PYTHON"
   ]
  },
  {
   "cell_type": "code",
   "execution_count": 32,
   "metadata": {},
   "outputs": [
    {
     "name": "stdout",
     "output_type": "stream",
     "text": [
      "   user  course\n",
      "0    51     516\n",
      "1    51    1099\n",
      "2  6117     356\n",
      "3  6117     357\n",
      "4  6117    1125 \n",
      " количество строк: 34074\n"
     ]
    }
   ],
   "source": [
    "# создаем в SQL и выгружаем таблицу с ID клиентов, купивших более одного уникального курса, и с id этих курсов\n",
    "\n",
    "def getActiveUsersWithCourse():\n",
    "    query = '''with purchased as\n",
    "    (select \n",
    "    c.user_id user_id,\n",
    "    ci.resource_id\n",
    "    from\n",
    "    final.carts c\n",
    "    join final.cart_items ci on c.id = ci.cart_id\n",
    "    where c.state = 'successful'  and ci.resource_type = 'Course'  \n",
    "    group by 1,2\n",
    "    order by 1,2\n",
    "    ),\n",
    "    user_count as\n",
    "    (\n",
    "    select\n",
    "    user_id,\n",
    "    resource_id,\n",
    "    count(resource_id) over (partition by user_id) \"count_course\"\n",
    "    from purchased\n",
    "    order by 3,1\n",
    "    )\n",
    "    select \n",
    "    user_id as user,\n",
    "    resource_id as course\n",
    "    from user_count\n",
    "    where count_course > 1\n",
    "    order by 1,2\n",
    "    '''.format()\n",
    "    conn = psycopg2.connect(\"dbname='skillfactory' user='skillfactory' host='84.201.134.129' password='cCkxxLVrDE8EbvjueeMedPKt' port=5432\")\n",
    "    dict_cur = conn.cursor(cursor_factory=psycopg2.extras.DictCursor)\n",
    "    dict_cur.execute(query)\n",
    "    rows = dict_cur.fetchall()\n",
    "    data = []\n",
    "    for row in rows:\n",
    "        data.append(dict(row))\n",
    "    return data\n",
    "df_users_course= pd.DataFrame(getActiveUsersWithCourse())\n",
    "\n",
    "print(df_users_course.head(), '\\n', 'количество строк:', len(df_users_course))"
   ]
  },
  {
   "cell_type": "code",
   "execution_count": 33,
   "metadata": {},
   "outputs": [],
   "source": [
    "# загрузим библиотеки\n",
    "\n",
    "from pprint import pprint\n",
    "from collections import defaultdict\n",
    "from itertools import combinations\n",
    "from collections import Counter"
   ]
  },
  {
   "cell_type": "code",
   "execution_count": 34,
   "metadata": {},
   "outputs": [],
   "source": [
    "# создаем копию исходного ДатаФрейма\n",
    "\n",
    "df_a0 = df_users_course.copy()"
   ]
  },
  {
   "cell_type": "code",
   "execution_count": 35,
   "metadata": {},
   "outputs": [
    {
     "name": "stdout",
     "output_type": "stream",
     "text": [
      "количество купленных курсов: 126\n"
     ]
    }
   ],
   "source": [
    "# делаем список уникальных id купленных курсов из первоначальной таблицы)\n",
    "\n",
    "uniq_course = list(df_a0['course'].unique())\n",
    "print('количество купленных курсов:',  len(uniq_course))"
   ]
  },
  {
   "cell_type": "code",
   "execution_count": 36,
   "metadata": {},
   "outputs": [
    {
     "name": "stdout",
     "output_type": "stream",
     "text": [
      "id курса, который никто не покупал: {772}\n"
     ]
    }
   ],
   "source": [
    "# находим id курса, который не покупался c помощью сравнений двух множеств (найдем их разность) \n",
    "\n",
    "all_course_set = set(course_id['course_id'].tolist())\n",
    "uniq_course_set = set(uniq_course)\n",
    "course_off = all_course_set.difference(uniq_course_set)\n",
    "print('id курса, который никто не покупал:', course_off)"
   ]
  },
  {
   "cell_type": "code",
   "execution_count": 37,
   "metadata": {},
   "outputs": [
    {
     "name": "stdout",
     "output_type": "stream",
     "text": [
      "                 course\n",
      "user                   \n",
      "51          [516, 1099]\n",
      "6117   [356, 357, 1125]\n",
      "10275       [553, 1147]\n",
      "10457       [361, 1138]\n",
      "17166        [356, 357] \n",
      " количество строк: 12656\n"
     ]
    }
   ],
   "source": [
    "# группируем в списки все уникальные курсы каждого пользователя\n",
    "\n",
    "df_course = df_a0.groupby(['user'])['course'].apply(lambda x:list(np.unique(x)))\n",
    "df_course = df_course.to_frame()\n",
    "print(df_course.head(), '\\n', 'количество строк:', len(df_course))"
   ]
  },
  {
   "cell_type": "code",
   "execution_count": 38,
   "metadata": {},
   "outputs": [
    {
     "name": "stdout",
     "output_type": "stream",
     "text": [
      "                                       course\n",
      "user                                         \n",
      "51                              [(516, 1099)]\n",
      "6117   [(356, 357), (356, 1125), (357, 1125)]\n",
      "10275                           [(553, 1147)]\n",
      "10457                           [(361, 1138)]\n",
      "17166                            [(356, 357)] \n",
      " количество строк: 12656\n"
     ]
    }
   ],
   "source": [
    "# для каждого пользователя (user) оздаем все уникальные пары из его списка курсов и помещаем в отдельный столбец (course) ДатаФрейма\n",
    "\n",
    "paries = df_course['course'].apply(lambda x:list(combinations(x,2)))\n",
    "paries = paries.to_frame()\n",
    "print(paries.head(), '\\n', 'количество строк:', len(df_course))"
   ]
  },
  {
   "cell_type": "code",
   "execution_count": 39,
   "metadata": {},
   "outputs": [
    {
     "name": "stdout",
     "output_type": "stream",
     "text": [
      "[[(516, 1099)], [(356, 357), (356, 1125), (357, 1125)], [(553, 1147)], [(361, 1138)], [(356, 357)]] ... \n",
      " количество строк: 12656\n"
     ]
    }
   ],
   "source": [
    "# переносим столбец со списками пар курсов в отдельный список, смотрим длину списка\n",
    "\n",
    "paries_lst= paries['course'].tolist()\n",
    "print(paries_lst[:5], '...', '\\n', 'количество строк:', len(paries_lst))"
   ]
  },
  {
   "cell_type": "code",
   "execution_count": 40,
   "metadata": {},
   "outputs": [
    {
     "name": "stdout",
     "output_type": "stream",
     "text": [
      "[(516, 1099), (356, 357), (356, 1125), (357, 1125), (553, 1147)] ... \n",
      " количество строк: 40017\n"
     ]
    }
   ],
   "source": [
    "# преобразовываем список списков пар курсов в единый спиcок пар курсов \n",
    "\n",
    "paries_all = sum(paries_lst, [])\n",
    "print(paries_all[:5], '...', '\\n', 'количество строк:', len(paries_all))"
   ]
  },
  {
   "cell_type": "code",
   "execution_count": 41,
   "metadata": {},
   "outputs": [
    {
     "name": "stdout",
     "output_type": "stream",
     "text": [
      "        paries\n",
      "0  (516, 1099)\n",
      "1   (356, 357)\n",
      "2  (356, 1125)\n",
      "3  (357, 1125)\n",
      "4  (553, 1147) \n",
      " количество строк: 40017\n"
     ]
    }
   ],
   "source": [
    "# и далее переносим в Датафрейм с курасами их парами\n",
    "\n",
    "df_paries = pd.DataFrame(data=paries_all, columns=['course', 'course2'])\n",
    "df_paries['paries'] = paries_all\n",
    "df_paries1 = df_paries.drop(['course','course2'], axis=1)\n",
    "print(df_paries1.head(), '\\n', 'количество строк:', len(df_paries1))"
   ]
  },
  {
   "cell_type": "code",
   "execution_count": 42,
   "metadata": {},
   "outputs": [
    {
     "name": "stdout",
     "output_type": "stream",
     "text": [
      "       paries  rank\n",
      "0  (551, 566)   797\n",
      "1  (515, 551)   417\n",
      "2  (489, 551)   311\n",
      "3  (523, 551)   304\n",
      "4  (566, 794)   290 \n",
      " количество строк: 3989\n"
     ]
    }
   ],
   "source": [
    "# создаем таблицу с уникальными парами курсов, проранжированными по частоте их совместных покупок (rank), считаем количество уникальных пар\n",
    "\n",
    "df_paries2 = df_paries1.value_counts().to_frame(name='rank').reset_index(inplace= False)\n",
    "print(df_paries2.head(), '\\n', 'количество строк:', len(df_paries2))"
   ]
  },
  {
   "cell_type": "markdown",
   "metadata": {},
   "source": [
    "#### Выводы по второму этапу:\n",
    "- Следует обратить внимание на курс с номером 772, поскольку он ни разу не покупался, необходимо разобраться в причинах.\n",
    "- Среди покупок активных клиентов (купивших более одного курса) встречаются 3989 различных пар курсов.\n",
    "- Самая популярная пара курсов (551, 566) встречается 797 раз. Возможно, эти курсы очень похожи или дополняют друг друга."
   ]
  },
  {
   "cell_type": "markdown",
   "metadata": {},
   "source": [
    " #### 3. ФОРМИРОВАНИЕ РЕКОМЕНДАТЕЛЬНОЙ ТАБЛИЦЫ С ПОМОЩЬЮ PYTHON"
   ]
  },
  {
   "cell_type": "code",
   "execution_count": 43,
   "metadata": {},
   "outputs": [
    {
     "name": "stdout",
     "output_type": "stream",
     "text": [
      "[((551, 566), 797), ((515, 551), 417), ((489, 551), 311), ((523, 551), 304), ((566, 794), 290)] ... \n",
      " количество строк: 3989\n"
     ]
    }
   ],
   "source": [
    "# формируем cписок, содержащий список из пары курсов (курс1, курс2) и рейтингами этих пар(rank)\n",
    "\n",
    "paries_tuple = tuple()\n",
    "paries_list = []\n",
    "for elem in df_paries2.itertuples():\n",
    "    paries_list.append((elem[1], elem[2]))\n",
    "\n",
    "paries_list\n",
    "print(paries_list[:5], '...', '\\n', 'количество строк:', len(paries_list))"
   ]
  },
  {
   "cell_type": "code",
   "execution_count": 44,
   "metadata": {},
   "outputs": [],
   "source": [
    "# создаем функцию, собирающую для конкретного курса все его пары с их рейтингами и выдающую двух рекомендуемыых соседей из ТОП2 его соседей, используя рейтинг пар\n",
    "\n",
    "def recomm_func(course):\n",
    "    recomm_list = []\n",
    "    for elem in paries_list:\n",
    "       if elem[0][0] == course:\n",
    "          recomm_list.append((elem[1], course, elem[0][1]))\n",
    "       elif elem[0][1] == course:\n",
    "           recomm_list.append((elem[1], course, elem[0][0]))\n",
    "       else:\n",
    "           continue\n",
    "    recomm_list.sort(reverse=True)\n",
    "    cnt=len(recomm_list)\n",
    "    recomm_list[:2]\n",
    "    recomm_list = recomm_list[:2]\n",
    "    recomm_list.append(cnt)\n",
    "    return recomm_list\n"
   ]
  },
  {
   "cell_type": "code",
   "execution_count": 45,
   "metadata": {},
   "outputs": [],
   "source": [
    "# собираем в финальную таблицу купленных курсов c рекомендованными парами к ним, добавим столбец с количеством пар, в которых этот курс встречается.\n",
    "\n",
    "final_list = []\n",
    "one_course_list = []\n",
    "for elem in uniq_course:\n",
    "    if len(recomm_func(elem)) == 3:\n",
    "        final_list.append((recomm_func(elem)[0][1], recomm_func(elem)[0][2],recomm_func(elem)[1][2],recomm_func(elem)[2]))\n",
    "    else:\n",
    "        final_list.append((recomm_func(elem)[0][1], recomm_func(elem)[0][2],recomm_func(elem)[0][2],recomm_func(elem)[2]))\n",
    "        one_course_list.append(elem)\n",
    "    continue\n",
    "\n",
    "final_df= pd.DataFrame(data=final_list, columns= ['course', 'first_recomm', 'sec_recomm', 'quantity_paries'])\n"
   ]
  },
  {
   "cell_type": "markdown",
   "metadata": {},
   "source": [
    "#### Результат третьего этапа: Рекомендательная таблица."
   ]
  },
  {
   "cell_type": "code",
   "execution_count": 46,
   "metadata": {},
   "outputs": [
    {
     "data": {
      "text/html": [
       "<div>\n",
       "<style scoped>\n",
       "    .dataframe tbody tr th:only-of-type {\n",
       "        vertical-align: middle;\n",
       "    }\n",
       "\n",
       "    .dataframe tbody tr th {\n",
       "        vertical-align: top;\n",
       "    }\n",
       "\n",
       "    .dataframe thead th {\n",
       "        text-align: right;\n",
       "    }\n",
       "</style>\n",
       "<table border=\"1\" class=\"dataframe\">\n",
       "  <thead>\n",
       "    <tr style=\"text-align: right;\">\n",
       "      <th></th>\n",
       "      <th>course</th>\n",
       "      <th>first_recomm</th>\n",
       "      <th>sec_recomm</th>\n",
       "      <th>quantity_paries</th>\n",
       "    </tr>\n",
       "  </thead>\n",
       "  <tbody>\n",
       "    <tr>\n",
       "      <th>10</th>\n",
       "      <td>551</td>\n",
       "      <td>566</td>\n",
       "      <td>515</td>\n",
       "      <td>117</td>\n",
       "    </tr>\n",
       "    <tr>\n",
       "      <th>51</th>\n",
       "      <td>523</td>\n",
       "      <td>551</td>\n",
       "      <td>515</td>\n",
       "      <td>116</td>\n",
       "    </tr>\n",
       "    <tr>\n",
       "      <th>23</th>\n",
       "      <td>552</td>\n",
       "      <td>551</td>\n",
       "      <td>523</td>\n",
       "      <td>114</td>\n",
       "    </tr>\n",
       "    <tr>\n",
       "      <th>48</th>\n",
       "      <td>515</td>\n",
       "      <td>551</td>\n",
       "      <td>489</td>\n",
       "      <td>114</td>\n",
       "    </tr>\n",
       "    <tr>\n",
       "      <th>13</th>\n",
       "      <td>514</td>\n",
       "      <td>551</td>\n",
       "      <td>515</td>\n",
       "      <td>113</td>\n",
       "    </tr>\n",
       "    <tr>\n",
       "      <th>...</th>\n",
       "      <td>...</td>\n",
       "      <td>...</td>\n",
       "      <td>...</td>\n",
       "      <td>...</td>\n",
       "    </tr>\n",
       "    <tr>\n",
       "      <th>116</th>\n",
       "      <td>1199</td>\n",
       "      <td>523</td>\n",
       "      <td>1115</td>\n",
       "      <td>7</td>\n",
       "    </tr>\n",
       "    <tr>\n",
       "      <th>124</th>\n",
       "      <td>833</td>\n",
       "      <td>570</td>\n",
       "      <td>507</td>\n",
       "      <td>7</td>\n",
       "    </tr>\n",
       "    <tr>\n",
       "      <th>118</th>\n",
       "      <td>1201</td>\n",
       "      <td>1186</td>\n",
       "      <td>1144</td>\n",
       "      <td>4</td>\n",
       "    </tr>\n",
       "    <tr>\n",
       "      <th>121</th>\n",
       "      <td>902</td>\n",
       "      <td>777</td>\n",
       "      <td>742</td>\n",
       "      <td>4</td>\n",
       "    </tr>\n",
       "    <tr>\n",
       "      <th>123</th>\n",
       "      <td>1200</td>\n",
       "      <td>1104</td>\n",
       "      <td>866</td>\n",
       "      <td>3</td>\n",
       "    </tr>\n",
       "  </tbody>\n",
       "</table>\n",
       "<p>126 rows × 4 columns</p>\n",
       "</div>"
      ],
      "text/plain": [
       "     course  first_recomm  sec_recomm  quantity_paries\n",
       "10      551           566         515              117\n",
       "51      523           551         515              116\n",
       "23      552           551         523              114\n",
       "48      515           551         489              114\n",
       "13      514           551         515              113\n",
       "..      ...           ...         ...              ...\n",
       "116    1199           523        1115                7\n",
       "124     833           570         507                7\n",
       "118    1201          1186        1144                4\n",
       "121     902           777         742                4\n",
       "123    1200          1104         866                3\n",
       "\n",
       "[126 rows x 4 columns]"
      ]
     },
     "execution_count": 46,
     "metadata": {},
     "output_type": "execute_result"
    }
   ],
   "source": [
    "final_df.sort_values(by=['quantity_paries'], ascending=False) "
   ]
  },
  {
   "cell_type": "markdown",
   "metadata": {},
   "source": [
    "#### Некоторые дополнительные показатели к Рекомендательной таблице"
   ]
  },
  {
   "cell_type": "code",
   "execution_count": 47,
   "metadata": {},
   "outputs": [
    {
     "name": "stdout",
     "output_type": "stream",
     "text": [
      "[]\n"
     ]
    }
   ],
   "source": [
    "# Проверяем, есть ли курсы, у которых менее двух предложеных рекомендаций\n",
    "print(one_course_list)\n",
    "# таких курсов нет"
   ]
  },
  {
   "cell_type": "code",
   "execution_count": 48,
   "metadata": {},
   "outputs": [
    {
     "data": {
      "text/html": [
       "<div>\n",
       "<style scoped>\n",
       "    .dataframe tbody tr th:only-of-type {\n",
       "        vertical-align: middle;\n",
       "    }\n",
       "\n",
       "    .dataframe tbody tr th {\n",
       "        vertical-align: top;\n",
       "    }\n",
       "\n",
       "    .dataframe thead th {\n",
       "        text-align: right;\n",
       "    }\n",
       "</style>\n",
       "<table border=\"1\" class=\"dataframe\">\n",
       "  <thead>\n",
       "    <tr style=\"text-align: right;\">\n",
       "      <th></th>\n",
       "      <th>quantity_paries</th>\n",
       "    </tr>\n",
       "  </thead>\n",
       "  <tbody>\n",
       "    <tr>\n",
       "      <th>count</th>\n",
       "      <td>126.000000</td>\n",
       "    </tr>\n",
       "    <tr>\n",
       "      <th>mean</th>\n",
       "      <td>63.317460</td>\n",
       "    </tr>\n",
       "    <tr>\n",
       "      <th>std</th>\n",
       "      <td>28.667934</td>\n",
       "    </tr>\n",
       "    <tr>\n",
       "      <th>min</th>\n",
       "      <td>3.000000</td>\n",
       "    </tr>\n",
       "    <tr>\n",
       "      <th>25%</th>\n",
       "      <td>44.250000</td>\n",
       "    </tr>\n",
       "    <tr>\n",
       "      <th>50%</th>\n",
       "      <td>64.000000</td>\n",
       "    </tr>\n",
       "    <tr>\n",
       "      <th>75%</th>\n",
       "      <td>80.000000</td>\n",
       "    </tr>\n",
       "    <tr>\n",
       "      <th>max</th>\n",
       "      <td>117.000000</td>\n",
       "    </tr>\n",
       "  </tbody>\n",
       "</table>\n",
       "</div>"
      ],
      "text/plain": [
       "       quantity_paries\n",
       "count       126.000000\n",
       "mean         63.317460\n",
       "std          28.667934\n",
       "min           3.000000\n",
       "25%          44.250000\n",
       "50%          64.000000\n",
       "75%          80.000000\n",
       "max         117.000000"
      ]
     },
     "execution_count": 48,
     "metadata": {},
     "output_type": "execute_result"
    }
   ],
   "source": [
    "# немного статистической информации о таблице  \n",
    "\n",
    "final_df=final_df.astype({'course' : object, 'first_recomm' : object,'sec_recomm' : object})\n",
    "final_df.describe()"
   ]
  },
  {
   "cell_type": "code",
   "execution_count": 49,
   "metadata": {},
   "outputs": [
    {
     "data": {
      "text/html": [
       "<div>\n",
       "<style scoped>\n",
       "    .dataframe tbody tr th:only-of-type {\n",
       "        vertical-align: middle;\n",
       "    }\n",
       "\n",
       "    .dataframe tbody tr th {\n",
       "        vertical-align: top;\n",
       "    }\n",
       "\n",
       "    .dataframe thead th {\n",
       "        text-align: right;\n",
       "    }\n",
       "</style>\n",
       "<table border=\"1\" class=\"dataframe\">\n",
       "  <thead>\n",
       "    <tr style=\"text-align: right;\">\n",
       "      <th></th>\n",
       "      <th>course</th>\n",
       "      <th>first_recomm</th>\n",
       "      <th>sec_recomm</th>\n",
       "    </tr>\n",
       "  </thead>\n",
       "  <tbody>\n",
       "    <tr>\n",
       "      <th>count</th>\n",
       "      <td>126</td>\n",
       "      <td>126</td>\n",
       "      <td>126</td>\n",
       "    </tr>\n",
       "    <tr>\n",
       "      <th>unique</th>\n",
       "      <td>126</td>\n",
       "      <td>38</td>\n",
       "      <td>51</td>\n",
       "    </tr>\n",
       "    <tr>\n",
       "      <th>top</th>\n",
       "      <td>516</td>\n",
       "      <td>551</td>\n",
       "      <td>551</td>\n",
       "    </tr>\n",
       "    <tr>\n",
       "      <th>freq</th>\n",
       "      <td>1</td>\n",
       "      <td>33</td>\n",
       "      <td>11</td>\n",
       "    </tr>\n",
       "  </tbody>\n",
       "</table>\n",
       "</div>"
      ],
      "text/plain": [
       "        course  first_recomm  sec_recomm\n",
       "count      126           126         126\n",
       "unique     126            38          51\n",
       "top        516           551         551\n",
       "freq         1            33          11"
      ]
     },
     "execution_count": 49,
     "metadata": {},
     "output_type": "execute_result"
    }
   ],
   "source": [
    "final_df.describe(include= object)"
   ]
  },
  {
   "cell_type": "code",
   "execution_count": 50,
   "metadata": {},
   "outputs": [
    {
     "name": "stdout",
     "output_type": "stream",
     "text": [
      "показатели курса: \n",
      "    course first_recomm sec_recomm  quantity_paries\n",
      "15    566          551        794              112 \n",
      "\n",
      "количество рекомендаций №1: 9\n",
      "количество рекомендаций №2: 9\n"
     ]
    }
   ],
   "source": [
    "# тут можно посмотреть показатели по интересующему курсу (задав номер курса в переменной arg)\n",
    "\n",
    "arg = 566\n",
    "print('показатели курса:', '\\n', final_df.loc[final_df['course'] == arg], '\\n')\n",
    "print('количество рекомендаций №1:', final_df.loc[final_df['first_recomm'] == arg]['first_recomm'].count())\n",
    "print('количество рекомендаций №2:', final_df.loc[final_df['sec_recomm'] == arg]['sec_recomm'].count())\n",
    "# print(final_df[final_df.loc[:,'first_recomm'].isin([arg])]['first_recomm'].count())\n"
   ]
  },
  {
   "cell_type": "markdown",
   "metadata": {},
   "source": [
    "#### Выводы по третьему этапу:\n",
    "- Самым часто встречающимся в парах в другими курсами (с показателем 117 пар) оказался курс 551, он же оказывается и лидером в рекомендациях к остальным (33 первых рекомендаций и 11 вторых)\n",
    "- Второй курс из самой топовой пары (551, 566) имеет показатели: всего количества сочетаний с другими - 112, рекомендаций №1 - 9 и рекомендаций №2 - 9.\n",
    "- Средний показатель участия курса в парах с остальными составил 63 пары на курс, при максимальном у ТОП1 - 117."
   ]
  },
  {
   "cell_type": "markdown",
   "metadata": {},
   "source": [
    " #### 4. АНАЛИЗ РЕЗУЛЬТАТОВ ВНЕДРЕНИЯ РЕКОМЕНДАТЕЛЬНОЙ ТАБЛИЦЫ С ПОМОЩЬЮ A/B-ТЕСТА"
   ]
  },
  {
   "cell_type": "markdown",
   "metadata": {},
   "source": [
    "Для проведения тестирования эффективности внедрения новых рекомендаций все клиенты должны будут случайным образом поделены на контрольную и тестовую группы:    \n",
    "- тестовой группе будут показаны рекомендации,  \n",
    "-  а контрольной — нет.\n",
    "\n",
    "До реализации рекомендаций средняя конверсия в покупку второго курса была 3,2%.   \n",
    "Ожидаемое после ввода рекомендаций значение показателя конверсии -  4% (относительный рост - 20%).\n",
    "\n",
    "Сформулируем гитпотезу: \n",
    "- HO - Конверсия после внедрения новых рекомендаций увелитcя на 20%\n",
    "- H1 - Конверсия не вырастет или вырастет меньше ожидаемого"
   ]
  },
  {
   "cell_type": "markdown",
   "metadata": {},
   "source": [
    "Оопределим минимальный размер выборки для проведения теста при уровне достоверности 95% и статистической мощности 80%.   \n",
    "Для расчета воспользуемся калькулятором: https://www.evanmiller.org/ab-testing/sample-size.html  \n",
    "##### ВАЖНО УЧИТЫВАТЬ!:\n",
    " - При заданных ожидамых параметрах необходимый размер выборки для каждой группы должен будет составить 7900 клиентов.  \n",
    " - При среднемесячном показателе количествва покупок в прошлом порядка 2000 / мес. (49000 / 24) для проведения эксперимента потребуется ОКОЛО 8 МЕСЯЦЕВ, (а не три недели)!   \n",
    "\n"
   ]
  },
  {
   "cell_type": "markdown",
   "metadata": {},
   "source": [
    "##### Оценка результатов проведенного эксперимента\n",
    "Численное выражение полученных результатов таково:   \n",
    "В контрольной группе оказалось 8732 клиента, оформивших заказ, из них 293 купили больше одного курса.\n",
    "В тестовой — 8847 клиентов, из них 347 купили больше одного курса.\n",
    "\n",
    "1. Расчитаем p-value, воспользовавшись калькулятором   https://abtestguide.com/calc/ .   Получим p-value  равным 0.0224 (или 2,2%)\n",
    "\n",
    "##### ВЫВОД ПО ИТОГАМ A/B ТЕСТА::\n",
    " - Величина p-value 2,2% оказалась ниже заданного нами уровня достоверности 5%. Значит А/В тест подтвердил гипотезу о 20% росте конверсии.\n",
    " - Вариант с рекомендациями показал статистически значимо лучший результат, нужно реализовывать его для всех клиентов. \n",
    "\n",
    "\n",
    "\n"
   ]
  }
 ],
 "metadata": {
  "kernelspec": {
   "display_name": "Python 3.9.10 64-bit",
   "language": "python",
   "name": "python3"
  },
  "language_info": {
   "codemirror_mode": {
    "name": "ipython",
    "version": 3
   },
   "file_extension": ".py",
   "mimetype": "text/x-python",
   "name": "python",
   "nbconvert_exporter": "python",
   "pygments_lexer": "ipython3",
   "version": "3.9.10"
  },
  "vscode": {
   "interpreter": {
    "hash": "11938c6bc6919ae2720b4d5011047913343b08a43b18698fd82dedb0d4417594"
   }
  }
 },
 "nbformat": 4,
 "nbformat_minor": 4
}
